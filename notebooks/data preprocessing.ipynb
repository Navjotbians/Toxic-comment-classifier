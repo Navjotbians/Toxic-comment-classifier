{
 "cells": [
  {
   "cell_type": "markdown",
   "metadata": {},
   "source": [
    "## Data Preprocessing"
   ]
  },
  {
   "cell_type": "code",
   "execution_count": 3,
   "metadata": {},
   "outputs": [],
   "source": [
    "import numpy as np\n",
    "import pandas as pd\n",
    "import re\n",
    "import string"
   ]
  },
  {
   "cell_type": "code",
   "execution_count": 4,
   "metadata": {},
   "outputs": [],
   "source": [
    "df = pd.read_csv('../Input/train.csv')"
   ]
  },
  {
   "cell_type": "code",
   "execution_count": 5,
   "metadata": {},
   "outputs": [
    {
     "data": {
      "text/plain": [
       "\"Explanation\\nWhy the edits made under my username Hardcore Metallica Fan were reverted? They weren't vandalisms, just closure on some GAs after I voted at New York Dolls FAC. And please don't remove the template from the talk page since I'm retired now.89.205.38.27\""
      ]
     },
     "execution_count": 5,
     "metadata": {},
     "output_type": "execute_result"
    }
   ],
   "source": [
    "input_str = df.comment_text[0]\n",
    "input_str"
   ]
  },
  {
   "cell_type": "code",
   "execution_count": 6,
   "metadata": {},
   "outputs": [
    {
     "name": "stdout",
     "output_type": "stream",
     "text": [
      "explanation\n",
      "why the edits made under my username hardcore metallica fan were reverted? they weren't vandalisms, just closure on some gas after i voted at new york dolls fac. and please don't remove the template from the talk page since i'm retired now.89.205.38.27\n"
     ]
    }
   ],
   "source": [
    "## Convert in lower case\n",
    "input_str = input_str.lower()\n",
    "print(input_str)"
   ]
  },
  {
   "cell_type": "code",
   "execution_count": 7,
   "metadata": {},
   "outputs": [
    {
     "name": "stdout",
     "output_type": "stream",
     "text": [
      "explanation\n",
      "why the edits made under my username hardcore metallica fan were reverted? they weren't vandalisms, just closure on some gas after i voted at new york dolls fac. and please don't remove the template from the talk page since i'm retired now....\n"
     ]
    }
   ],
   "source": [
    "### Remove numbers\n",
    "result = re.sub(r'\\d+', '', input_str)\n",
    "print(result)"
   ]
  },
  {
   "cell_type": "code",
   "execution_count": 8,
   "metadata": {},
   "outputs": [
    {
     "name": "stdout",
     "output_type": "stream",
     "text": [
      "explanation\n",
      "why the edits made under my username hardcore metallica fan were reverted they werent vandalisms just closure on some gas after i voted at new york dolls fac and please dont remove the template from the talk page since im retired now892053827\n"
     ]
    }
   ],
   "source": [
    "### Remove punctuation\n",
    "result = input_str.translate(str.maketrans('','', string.punctuation))\n",
    "print(result)"
   ]
  },
  {
   "cell_type": "code",
   "execution_count": 9,
   "metadata": {},
   "outputs": [
    {
     "data": {
      "text/plain": [
       "\"explanation\\nwhy the edits made under my username hardcore metallica fan were reverted? they weren't vandalisms, just closure on some gas after i voted at new york dolls fac. and please don't remove the template from the talk page since i'm retired now.89.205.38.27\""
      ]
     },
     "execution_count": 9,
     "metadata": {},
     "output_type": "execute_result"
    }
   ],
   "source": [
    "### Remove white spaces (removes tabs)\n",
    "input_str = input_str.strip()\n",
    "input_str"
   ]
  },
  {
   "cell_type": "code",
   "execution_count": 10,
   "metadata": {},
   "outputs": [],
   "source": [
    "### data cleaner function\n",
    "def clean(input_str):\n",
    "    input_str = input_str.lower()\n",
    "    input_str = re.sub(r'\\d+', '', input_str)\n",
    "    input_str = re.sub(r\"n't\", \" not \", input_str)\n",
    "    input_str = re.sub(r\"can't\", \"cannot \", input_str)\n",
    "    input_str = re.sub(r\"what's\", \"what is \", input_str)\n",
    "    input_str = re.sub(r\"\\'s\", \" \", input_str)\n",
    "    input_str = re.sub(r\"\\'ve\", \" have \", input_str)\n",
    "    input_str = re.sub(r\"\\'re\", \" are \", input_str)\n",
    "    input_str = re.sub(r\"\\'d\", \" would \", input_str)\n",
    "    input_str = re.sub(r\"\\'ll\", \" will \", input_str)\n",
    "    input_str = re.sub(r\"\\'scuse\", \" excuse \", input_str)\n",
    "    input_str = re.sub(r\"I'm\", \"I am\", input_str)\n",
    "    input_str = re.sub(r\" m \", \" am \", input_str)\n",
    "    input_str = re.sub('\\s+', ' ', input_str)\n",
    "    input_str = re.sub('\\W', ' ', input_str)\n",
    "    input_str = input_str.translate(str.maketrans('','', string.punctuation))\n",
    "    input_str = input_str.strip()\n",
    "    return input_str"
   ]
  },
  {
   "cell_type": "code",
   "execution_count": 11,
   "metadata": {},
   "outputs": [
    {
     "data": {
      "text/plain": [
       "'d aww  he matches this background colour i m seemingly stuck with  thanks   talk     january    utc'"
      ]
     },
     "execution_count": 11,
     "metadata": {},
     "output_type": "execute_result"
    }
   ],
   "source": [
    "st = df.comment_text[1]\n",
    "clean(st)"
   ]
  },
  {
   "cell_type": "code",
   "execution_count": null,
   "metadata": {},
   "outputs": [],
   "source": []
  }
 ],
 "metadata": {
  "kernelspec": {
   "display_name": "Python 3",
   "language": "python",
   "name": "python3"
  },
  "language_info": {
   "codemirror_mode": {
    "name": "ipython",
    "version": 3
   },
   "file_extension": ".py",
   "mimetype": "text/x-python",
   "name": "python",
   "nbconvert_exporter": "python",
   "pygments_lexer": "ipython3",
   "version": "3.6.5"
  }
 },
 "nbformat": 4,
 "nbformat_minor": 2
}
