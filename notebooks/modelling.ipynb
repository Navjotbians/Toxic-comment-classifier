{
 "cells": [
  {
   "cell_type": "markdown",
   "metadata": {},
   "source": [
    "### Model training"
   ]
  },
  {
   "cell_type": "markdown",
   "metadata": {},
   "source": [
    "#### Import all the required packages"
   ]
  },
  {
   "cell_type": "code",
   "execution_count": 113,
   "metadata": {},
   "outputs": [],
   "source": [
    "import pandas as pd\n",
    "import numpy as np\n",
    "from sklearn.multiclass import OneVsRestClassifier\n",
    "from sklearn.linear_model import LogisticRegression\n",
    "from sklearn import feature_extraction,model_selection,preprocessing\n",
    "from sklearn.metrics import accuracy_score"
   ]
  },
  {
   "cell_type": "markdown",
   "metadata": {},
   "source": [
    "#### load processed dataset"
   ]
  },
  {
   "cell_type": "code",
   "execution_count": null,
   "metadata": {},
   "outputs": [],
   "source": [
    "df = pd.read_csv('../data/processed/processed_data.csv')"
   ]
  },
  {
   "cell_type": "code",
   "execution_count": null,
   "metadata": {},
   "outputs": [],
   "source": [
    "### dropping the original unclean comment coloum from dataset\n",
    "df = df.drop('comment_text', axis = 1)"
   ]
  },
  {
   "cell_type": "code",
   "execution_count": null,
   "metadata": {},
   "outputs": [],
   "source": [
    "### Renaming the clean comment colum to comment_text for ease\n",
    "df = df.rename({'clean_comment': 'comment_text'}, axis=1)"
   ]
  },
  {
   "cell_type": "code",
   "execution_count": null,
   "metadata": {},
   "outputs": [],
   "source": [
    "df.head()"
   ]
  },
  {
   "cell_type": "code",
   "execution_count": null,
   "metadata": {},
   "outputs": [],
   "source": [
    "### fill NA for any missing data \n",
    "df['comment_text'].fillna(\"missing\", inplace=True)"
   ]
  },
  {
   "cell_type": "code",
   "execution_count": null,
   "metadata": {},
   "outputs": [],
   "source": [
    "labels = ['toxic', 'severe_toxic', 'obscene', 'threat', 'insult', 'identity_hate']\n",
    "corpus = df['comment_text']"
   ]
  },
  {
   "cell_type": "markdown",
   "metadata": {},
   "source": [
    "### Split the date into train test datasets"
   ]
  },
  {
   "cell_type": "code",
   "execution_count": null,
   "metadata": {},
   "outputs": [],
   "source": [
    "X_train, X_test, y_train, y_test = model_selection.train_test_split(corpus,df[labels],test_size=0.25,random_state=42)"
   ]
  },
  {
   "cell_type": "code",
   "execution_count": null,
   "metadata": {},
   "outputs": [],
   "source": [
    "X_train.shape, X_test.shape"
   ]
  },
  {
   "cell_type": "code",
   "execution_count": null,
   "metadata": {},
   "outputs": [],
   "source": [
    "# Stats of X_train labels\n",
    "counts = []\n",
    "for i in labels:\n",
    "    counts.append((i, y_train[i].sum()))\n",
    "df_stats = pd.DataFrame(counts, columns=['Labels', 'number_of_comments'])\n",
    "df_stats"
   ]
  },
  {
   "cell_type": "code",
   "execution_count": null,
   "metadata": {},
   "outputs": [],
   "source": [
    "#stats of X_test labels\n",
    "counts = []\n",
    "for i in labels:\n",
    "    counts.append((i, y_test[i].sum()))\n",
    "df_stats = pd.DataFrame(counts, columns=['Labels', 'number_of_comments'])\n",
    "df_stats"
   ]
  },
  {
   "cell_type": "markdown",
   "metadata": {},
   "source": [
    "#### Converting text comments into vectors using bag of words or TF-IDF "
   ]
  },
  {
   "cell_type": "code",
   "execution_count": null,
   "metadata": {},
   "outputs": [],
   "source": [
    "def word_embeddings(X_train, X_test, embedding_type = \"tfidf\"):\n",
    "    if embedding_type == \"bow\":\n",
    "        bw_vectorizer = feature_extraction.text.CountVectorizer(max_features= 100)\n",
    "        X_train = bw_vectorizer.fit_transform(X_train).toarray()\n",
    "        X_test = bw_vectorizer.fit_transform(X_test).toarray()\n",
    "    if embedding_type == \"tfidf\":\n",
    "        tf_vectorizer = feature_extraction.text.TfidfVectorizer(max_features=100)\n",
    "        X_train = tf_vectorizer.fit_transform(X_train).toarray()\n",
    "        X_test = tf_vectorizer.fit_transform(X_test).toarray()\n",
    "    return X_train, X_test"
   ]
  },
  {
   "cell_type": "code",
   "execution_count": null,
   "metadata": {},
   "outputs": [],
   "source": [
    "Xv_train, Xv_test = word_embeddings(X_train, X_test, \"tfidf\")"
   ]
  },
  {
   "cell_type": "markdown",
   "metadata": {},
   "source": [
    "### Training"
   ]
  },
  {
   "cell_type": "code",
   "execution_count": null,
   "metadata": {},
   "outputs": [],
   "source": [
    "### Linear regression \n",
    "for label in labels:\n",
    "    print('... Processing {}'.format(label))\n",
    "    # train the model \n",
    "    logreg = OneVsRestClassifier(LogisticRegression(solver='sag'))\n",
    "    logreg.fit(Xv_train, y_train[label])\n",
    "    # compute the testing accuracy\n",
    "    prediction = logreg.predict(Xv_test)\n",
    "    print('Validation accuracy is {}'.format(accuracy_score(y_test[label], prediction)))"
   ]
  },
  {
   "cell_type": "markdown",
   "metadata": {},
   "source": [
    "<br> Checked the impact of use of Bag of words and TF-IDF on the accuracy of Linear regression. \n",
    "<br>In this use case accuracy:\n",
    "<br>Remained same - Identity hate, threat\n",
    "<br>Almost same - Severe_toxic\n",
    "<br>Little bit improved with the use of TF-IDF but not very significant change - Toxic, Obscene, insult"
   ]
  },
  {
   "cell_type": "code",
   "execution_count": null,
   "metadata": {},
   "outputs": [],
   "source": []
  },
  {
   "cell_type": "code",
   "execution_count": null,
   "metadata": {},
   "outputs": [],
   "source": [
    "\n",
    "    \n",
    "        "
   ]
  },
  {
   "cell_type": "code",
   "execution_count": null,
   "metadata": {},
   "outputs": [],
   "source": []
  }
 ],
 "metadata": {
  "kernelspec": {
   "display_name": "Python 3",
   "language": "python",
   "name": "python3"
  },
  "language_info": {
   "codemirror_mode": {
    "name": "ipython",
    "version": 3
   },
   "file_extension": ".py",
   "mimetype": "text/x-python",
   "name": "python",
   "nbconvert_exporter": "python",
   "pygments_lexer": "ipython3",
   "version": "3.6.5"
  }
 },
 "nbformat": 4,
 "nbformat_minor": 2
}
