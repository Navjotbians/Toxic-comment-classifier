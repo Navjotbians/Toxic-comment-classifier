{
 "cells": [
  {
   "cell_type": "markdown",
   "metadata": {
    "id": "ORvBQcJ8k6vo"
   },
   "source": [
    "## Data exploration after pre-processing"
   ]
  },
  {
   "cell_type": "code",
   "execution_count": 1,
   "metadata": {
    "id": "8AP6pmPjk6v1"
   },
   "outputs": [],
   "source": [
    "import numpy as np\n",
    "import pandas as pd\n",
    "import nltk\n",
    "from nltk.tokenize import word_tokenize\n",
    "from nltk.corpus import stopwords\n",
    "import re\n",
    "import string\n",
    "import operator"
   ]
  },
  {
   "cell_type": "code",
   "execution_count": 2,
   "metadata": {
    "id": "uxi--Zy7k6v3"
   },
   "outputs": [],
   "source": [
    "import matplotlib.pyplot as plt"
   ]
  },
  {
   "cell_type": "code",
   "execution_count": 3,
   "metadata": {
    "colab": {
     "base_uri": "https://localhost:8080/"
    },
    "id": "J31Mx7R0lkk4",
    "outputId": "78a324e3-a654-40b1-a194-2f73731c6590"
   },
   "outputs": [],
   "source": [
    "# nltk.download('punkt')\r",
    "# nltk.download('stopwords')"
   ]
  },
  {
   "cell_type": "code",
   "execution_count": 109,
   "metadata": {
    "id": "_LbpeVG1k6v3"
   },
   "outputs": [],
   "source": [
    "df = pd.read_csv('../input/processed_stem_data.csv')"
   ]
  },
  {
   "cell_type": "code",
   "execution_count": 112,
   "metadata": {},
   "outputs": [
    {
     "data": {
      "text/html": [
       "<div>\n",
       "<style scoped>\n",
       "    .dataframe tbody tr th:only-of-type {\n",
       "        vertical-align: middle;\n",
       "    }\n",
       "\n",
       "    .dataframe tbody tr th {\n",
       "        vertical-align: top;\n",
       "    }\n",
       "\n",
       "    .dataframe thead th {\n",
       "        text-align: right;\n",
       "    }\n",
       "</style>\n",
       "<table border=\"1\" class=\"dataframe\">\n",
       "  <thead>\n",
       "    <tr style=\"text-align: right;\">\n",
       "      <th></th>\n",
       "      <th>Unnamed: 0</th>\n",
       "      <th>id</th>\n",
       "      <th>comment_text</th>\n",
       "      <th>toxic</th>\n",
       "      <th>severe_toxic</th>\n",
       "      <th>obscene</th>\n",
       "      <th>threat</th>\n",
       "      <th>insult</th>\n",
       "      <th>identity_hate</th>\n",
       "      <th>clean_comment</th>\n",
       "    </tr>\n",
       "  </thead>\n",
       "  <tbody>\n",
       "    <tr>\n",
       "      <th>0</th>\n",
       "      <td>0</td>\n",
       "      <td>0000997932d777bf</td>\n",
       "      <td>Explanation\\nWhy the edits made under my usern...</td>\n",
       "      <td>0</td>\n",
       "      <td>0</td>\n",
       "      <td>0</td>\n",
       "      <td>0</td>\n",
       "      <td>0</td>\n",
       "      <td>0</td>\n",
       "      <td>explan edit made usernam hardcor metallica fan...</td>\n",
       "    </tr>\n",
       "    <tr>\n",
       "      <th>1</th>\n",
       "      <td>1</td>\n",
       "      <td>000103f0d9cfb60f</td>\n",
       "      <td>D'aww! He matches this background colour I'm s...</td>\n",
       "      <td>0</td>\n",
       "      <td>0</td>\n",
       "      <td>0</td>\n",
       "      <td>0</td>\n",
       "      <td>0</td>\n",
       "      <td>0</td>\n",
       "      <td>aww match background colour seemingli stuck th...</td>\n",
       "    </tr>\n",
       "    <tr>\n",
       "      <th>2</th>\n",
       "      <td>2</td>\n",
       "      <td>000113f07ec002fd</td>\n",
       "      <td>Hey man, I'm really not trying to edit war. It...</td>\n",
       "      <td>0</td>\n",
       "      <td>0</td>\n",
       "      <td>0</td>\n",
       "      <td>0</td>\n",
       "      <td>0</td>\n",
       "      <td>0</td>\n",
       "      <td>hey man realli tri edit war guy constantli rem...</td>\n",
       "    </tr>\n",
       "    <tr>\n",
       "      <th>3</th>\n",
       "      <td>3</td>\n",
       "      <td>0001b41b1c6bb37e</td>\n",
       "      <td>\"\\nMore\\nI can't make any real suggestions on ...</td>\n",
       "      <td>0</td>\n",
       "      <td>0</td>\n",
       "      <td>0</td>\n",
       "      <td>0</td>\n",
       "      <td>0</td>\n",
       "      <td>0</td>\n",
       "      <td>ca make real suggest improv wonder section sta...</td>\n",
       "    </tr>\n",
       "    <tr>\n",
       "      <th>4</th>\n",
       "      <td>4</td>\n",
       "      <td>0001d958c54c6e35</td>\n",
       "      <td>You, sir, are my hero. Any chance you remember...</td>\n",
       "      <td>0</td>\n",
       "      <td>0</td>\n",
       "      <td>0</td>\n",
       "      <td>0</td>\n",
       "      <td>0</td>\n",
       "      <td>0</td>\n",
       "      <td>sir hero chanc rememb page</td>\n",
       "    </tr>\n",
       "  </tbody>\n",
       "</table>\n",
       "</div>"
      ],
      "text/plain": [
       "   Unnamed: 0                id  \\\n",
       "0           0  0000997932d777bf   \n",
       "1           1  000103f0d9cfb60f   \n",
       "2           2  000113f07ec002fd   \n",
       "3           3  0001b41b1c6bb37e   \n",
       "4           4  0001d958c54c6e35   \n",
       "\n",
       "                                        comment_text  toxic  severe_toxic  \\\n",
       "0  Explanation\\nWhy the edits made under my usern...      0             0   \n",
       "1  D'aww! He matches this background colour I'm s...      0             0   \n",
       "2  Hey man, I'm really not trying to edit war. It...      0             0   \n",
       "3  \"\\nMore\\nI can't make any real suggestions on ...      0             0   \n",
       "4  You, sir, are my hero. Any chance you remember...      0             0   \n",
       "\n",
       "   obscene  threat  insult  identity_hate  \\\n",
       "0        0       0       0              0   \n",
       "1        0       0       0              0   \n",
       "2        0       0       0              0   \n",
       "3        0       0       0              0   \n",
       "4        0       0       0              0   \n",
       "\n",
       "                                       clean_comment  \n",
       "0  explan edit made usernam hardcor metallica fan...  \n",
       "1  aww match background colour seemingli stuck th...  \n",
       "2  hey man realli tri edit war guy constantli rem...  \n",
       "3  ca make real suggest improv wonder section sta...  \n",
       "4                         sir hero chanc rememb page  "
      ]
     },
     "execution_count": 112,
     "metadata": {},
     "output_type": "execute_result"
    }
   ],
   "source": [
    "df.head()"
   ]
  },
  {
   "cell_type": "code",
   "execution_count": 113,
   "metadata": {},
   "outputs": [],
   "source": [
    "df = df.drop('comment_text', axis = 1)"
   ]
  },
  {
   "cell_type": "code",
   "execution_count": 114,
   "metadata": {},
   "outputs": [
    {
     "data": {
      "text/html": [
       "<div>\n",
       "<style scoped>\n",
       "    .dataframe tbody tr th:only-of-type {\n",
       "        vertical-align: middle;\n",
       "    }\n",
       "\n",
       "    .dataframe tbody tr th {\n",
       "        vertical-align: top;\n",
       "    }\n",
       "\n",
       "    .dataframe thead th {\n",
       "        text-align: right;\n",
       "    }\n",
       "</style>\n",
       "<table border=\"1\" class=\"dataframe\">\n",
       "  <thead>\n",
       "    <tr style=\"text-align: right;\">\n",
       "      <th></th>\n",
       "      <th>Unnamed: 0</th>\n",
       "      <th>id</th>\n",
       "      <th>toxic</th>\n",
       "      <th>severe_toxic</th>\n",
       "      <th>obscene</th>\n",
       "      <th>threat</th>\n",
       "      <th>insult</th>\n",
       "      <th>identity_hate</th>\n",
       "      <th>clean_comment</th>\n",
       "    </tr>\n",
       "  </thead>\n",
       "  <tbody>\n",
       "    <tr>\n",
       "      <th>0</th>\n",
       "      <td>0</td>\n",
       "      <td>0000997932d777bf</td>\n",
       "      <td>0</td>\n",
       "      <td>0</td>\n",
       "      <td>0</td>\n",
       "      <td>0</td>\n",
       "      <td>0</td>\n",
       "      <td>0</td>\n",
       "      <td>explan edit made usernam hardcor metallica fan...</td>\n",
       "    </tr>\n",
       "    <tr>\n",
       "      <th>1</th>\n",
       "      <td>1</td>\n",
       "      <td>000103f0d9cfb60f</td>\n",
       "      <td>0</td>\n",
       "      <td>0</td>\n",
       "      <td>0</td>\n",
       "      <td>0</td>\n",
       "      <td>0</td>\n",
       "      <td>0</td>\n",
       "      <td>aww match background colour seemingli stuck th...</td>\n",
       "    </tr>\n",
       "    <tr>\n",
       "      <th>2</th>\n",
       "      <td>2</td>\n",
       "      <td>000113f07ec002fd</td>\n",
       "      <td>0</td>\n",
       "      <td>0</td>\n",
       "      <td>0</td>\n",
       "      <td>0</td>\n",
       "      <td>0</td>\n",
       "      <td>0</td>\n",
       "      <td>hey man realli tri edit war guy constantli rem...</td>\n",
       "    </tr>\n",
       "    <tr>\n",
       "      <th>3</th>\n",
       "      <td>3</td>\n",
       "      <td>0001b41b1c6bb37e</td>\n",
       "      <td>0</td>\n",
       "      <td>0</td>\n",
       "      <td>0</td>\n",
       "      <td>0</td>\n",
       "      <td>0</td>\n",
       "      <td>0</td>\n",
       "      <td>ca make real suggest improv wonder section sta...</td>\n",
       "    </tr>\n",
       "    <tr>\n",
       "      <th>4</th>\n",
       "      <td>4</td>\n",
       "      <td>0001d958c54c6e35</td>\n",
       "      <td>0</td>\n",
       "      <td>0</td>\n",
       "      <td>0</td>\n",
       "      <td>0</td>\n",
       "      <td>0</td>\n",
       "      <td>0</td>\n",
       "      <td>sir hero chanc rememb page</td>\n",
       "    </tr>\n",
       "  </tbody>\n",
       "</table>\n",
       "</div>"
      ],
      "text/plain": [
       "   Unnamed: 0                id  toxic  severe_toxic  obscene  threat  insult  \\\n",
       "0           0  0000997932d777bf      0             0        0       0       0   \n",
       "1           1  000103f0d9cfb60f      0             0        0       0       0   \n",
       "2           2  000113f07ec002fd      0             0        0       0       0   \n",
       "3           3  0001b41b1c6bb37e      0             0        0       0       0   \n",
       "4           4  0001d958c54c6e35      0             0        0       0       0   \n",
       "\n",
       "   identity_hate                                      clean_comment  \n",
       "0              0  explan edit made usernam hardcor metallica fan...  \n",
       "1              0  aww match background colour seemingli stuck th...  \n",
       "2              0  hey man realli tri edit war guy constantli rem...  \n",
       "3              0  ca make real suggest improv wonder section sta...  \n",
       "4              0                         sir hero chanc rememb page  "
      ]
     },
     "execution_count": 114,
     "metadata": {},
     "output_type": "execute_result"
    }
   ],
   "source": [
    "df.head()"
   ]
  },
  {
   "cell_type": "code",
   "execution_count": 117,
   "metadata": {},
   "outputs": [],
   "source": [
    "df = df.rename({'clean_comment': 'comment_text'}, axis=1)"
   ]
  },
  {
   "cell_type": "code",
   "execution_count": 118,
   "metadata": {},
   "outputs": [
    {
     "data": {
      "text/html": [
       "<div>\n",
       "<style scoped>\n",
       "    .dataframe tbody tr th:only-of-type {\n",
       "        vertical-align: middle;\n",
       "    }\n",
       "\n",
       "    .dataframe tbody tr th {\n",
       "        vertical-align: top;\n",
       "    }\n",
       "\n",
       "    .dataframe thead th {\n",
       "        text-align: right;\n",
       "    }\n",
       "</style>\n",
       "<table border=\"1\" class=\"dataframe\">\n",
       "  <thead>\n",
       "    <tr style=\"text-align: right;\">\n",
       "      <th></th>\n",
       "      <th>Unnamed: 0</th>\n",
       "      <th>id</th>\n",
       "      <th>toxic</th>\n",
       "      <th>severe_toxic</th>\n",
       "      <th>obscene</th>\n",
       "      <th>threat</th>\n",
       "      <th>insult</th>\n",
       "      <th>identity_hate</th>\n",
       "      <th>comment_text</th>\n",
       "    </tr>\n",
       "  </thead>\n",
       "  <tbody>\n",
       "    <tr>\n",
       "      <th>0</th>\n",
       "      <td>0</td>\n",
       "      <td>0000997932d777bf</td>\n",
       "      <td>0</td>\n",
       "      <td>0</td>\n",
       "      <td>0</td>\n",
       "      <td>0</td>\n",
       "      <td>0</td>\n",
       "      <td>0</td>\n",
       "      <td>explan edit made usernam hardcor metallica fan...</td>\n",
       "    </tr>\n",
       "    <tr>\n",
       "      <th>1</th>\n",
       "      <td>1</td>\n",
       "      <td>000103f0d9cfb60f</td>\n",
       "      <td>0</td>\n",
       "      <td>0</td>\n",
       "      <td>0</td>\n",
       "      <td>0</td>\n",
       "      <td>0</td>\n",
       "      <td>0</td>\n",
       "      <td>aww match background colour seemingli stuck th...</td>\n",
       "    </tr>\n",
       "    <tr>\n",
       "      <th>2</th>\n",
       "      <td>2</td>\n",
       "      <td>000113f07ec002fd</td>\n",
       "      <td>0</td>\n",
       "      <td>0</td>\n",
       "      <td>0</td>\n",
       "      <td>0</td>\n",
       "      <td>0</td>\n",
       "      <td>0</td>\n",
       "      <td>hey man realli tri edit war guy constantli rem...</td>\n",
       "    </tr>\n",
       "    <tr>\n",
       "      <th>3</th>\n",
       "      <td>3</td>\n",
       "      <td>0001b41b1c6bb37e</td>\n",
       "      <td>0</td>\n",
       "      <td>0</td>\n",
       "      <td>0</td>\n",
       "      <td>0</td>\n",
       "      <td>0</td>\n",
       "      <td>0</td>\n",
       "      <td>ca make real suggest improv wonder section sta...</td>\n",
       "    </tr>\n",
       "    <tr>\n",
       "      <th>4</th>\n",
       "      <td>4</td>\n",
       "      <td>0001d958c54c6e35</td>\n",
       "      <td>0</td>\n",
       "      <td>0</td>\n",
       "      <td>0</td>\n",
       "      <td>0</td>\n",
       "      <td>0</td>\n",
       "      <td>0</td>\n",
       "      <td>sir hero chanc rememb page</td>\n",
       "    </tr>\n",
       "  </tbody>\n",
       "</table>\n",
       "</div>"
      ],
      "text/plain": [
       "   Unnamed: 0                id  toxic  severe_toxic  obscene  threat  insult  \\\n",
       "0           0  0000997932d777bf      0             0        0       0       0   \n",
       "1           1  000103f0d9cfb60f      0             0        0       0       0   \n",
       "2           2  000113f07ec002fd      0             0        0       0       0   \n",
       "3           3  0001b41b1c6bb37e      0             0        0       0       0   \n",
       "4           4  0001d958c54c6e35      0             0        0       0       0   \n",
       "\n",
       "   identity_hate                                       comment_text  \n",
       "0              0  explan edit made usernam hardcor metallica fan...  \n",
       "1              0  aww match background colour seemingli stuck th...  \n",
       "2              0  hey man realli tri edit war guy constantli rem...  \n",
       "3              0  ca make real suggest improv wonder section sta...  \n",
       "4              0                         sir hero chanc rememb page  "
      ]
     },
     "execution_count": 118,
     "metadata": {},
     "output_type": "execute_result"
    }
   ],
   "source": [
    "df.head()"
   ]
  },
  {
   "cell_type": "markdown",
   "metadata": {},
   "source": [
    "#### Dataset with toxic comments"
   ]
  },
  {
   "cell_type": "code",
   "execution_count": 119,
   "metadata": {},
   "outputs": [],
   "source": [
    "#extract dataset with toxic label\n",
    "df_toxic = df[df['toxic'] == 1]\n",
    "#Reseting the index\n",
    "df_toxic.set_index(['id'], inplace = True)\n",
    "df_toxic.reset_index(level =['id'], inplace = True)"
   ]
  },
  {
   "cell_type": "code",
   "execution_count": 121,
   "metadata": {},
   "outputs": [],
   "source": [
    "#df_toxic.head()"
   ]
  },
  {
   "cell_type": "markdown",
   "metadata": {},
   "source": [
    "#### Dataset of severe toxic comments"
   ]
  },
  {
   "cell_type": "code",
   "execution_count": 122,
   "metadata": {
    "id": "hC7KAZwD4fjx"
   },
   "outputs": [],
   "source": [
    "#extract dataset with Severe toxic label\r\n",
    "df_severe_toxic = df[df['severe_toxic'] == 1]\r\n",
    "#Reseting the index\r\n",
    "df_severe_toxic.set_index(['id'], inplace = True)\r\n",
    "df_severe_toxic.reset_index(level =['id'], inplace = True)\r\n",
    "# df_severe_toxic =df_severe_toxic.drop('comment_text', axis=1)"
   ]
  },
  {
   "cell_type": "code",
   "execution_count": 123,
   "metadata": {},
   "outputs": [],
   "source": [
    "#df_severe_toxic.head()"
   ]
  },
  {
   "cell_type": "markdown",
   "metadata": {},
   "source": [
    "#### Dataset with obscene comment "
   ]
  },
  {
   "cell_type": "code",
   "execution_count": 124,
   "metadata": {
    "id": "DozMymTMk6v4"
   },
   "outputs": [],
   "source": [
    "#extract dataset with obscens label\n",
    "df_obscene = df[df['obscene'] == 1]\n",
    "#Reseting the index\n",
    "df_obscene.set_index(['id'], inplace = True)\n",
    "df_obscene.reset_index(level =['id'], inplace = True)\n",
    "#df_obscene =df_obscene.drop('comment_text', axis=1)"
   ]
  },
  {
   "cell_type": "code",
   "execution_count": 125,
   "metadata": {
    "id": "SGnF3auYk6v6"
   },
   "outputs": [],
   "source": [
    "#df_obscene.head()"
   ]
  },
  {
   "cell_type": "markdown",
   "metadata": {},
   "source": [
    "#### Dataset with comments labeled as \"identity_hate\" "
   ]
  },
  {
   "cell_type": "code",
   "execution_count": 126,
   "metadata": {},
   "outputs": [],
   "source": [
    "df_identity_hate = df[df['identity_hate'] == 1]\n",
    "#Reseting the index\n",
    "df_identity_hate.set_index(['id'], inplace = True)\n",
    "df_identity_hate.reset_index(level =['id'], inplace = True)"
   ]
  },
  {
   "cell_type": "code",
   "execution_count": 127,
   "metadata": {},
   "outputs": [],
   "source": [
    "#df_identity_hate.head()"
   ]
  },
  {
   "cell_type": "markdown",
   "metadata": {},
   "source": [
    "#### Dataset with all the threat comments"
   ]
  },
  {
   "cell_type": "code",
   "execution_count": 128,
   "metadata": {},
   "outputs": [],
   "source": [
    "df_threat = df[df['threat'] == 1]\n",
    "#Reseting the index\n",
    "df_threat.set_index(['id'], inplace = True)\n",
    "df_threat.reset_index(level =['id'], inplace = True)"
   ]
  },
  {
   "cell_type": "code",
   "execution_count": 129,
   "metadata": {},
   "outputs": [],
   "source": [
    "# df_threat.head()"
   ]
  },
  {
   "cell_type": "markdown",
   "metadata": {},
   "source": [
    "#### Dataset of comments with \"Insult\" label"
   ]
  },
  {
   "cell_type": "code",
   "execution_count": 130,
   "metadata": {},
   "outputs": [],
   "source": [
    "df_insult = df[df['insult'] == 1]\n",
    "#Reseting the index\n",
    "df_insult.set_index(['id'], inplace = True)\n",
    "df_insult.reset_index(level =['id'], inplace = True)"
   ]
  },
  {
   "cell_type": "code",
   "execution_count": 131,
   "metadata": {},
   "outputs": [],
   "source": [
    "# df_insult.head()"
   ]
  },
  {
   "cell_type": "markdown",
   "metadata": {
    "id": "AUbpKvRXk6wR"
   },
   "source": [
    "#### Dataset with comments which have all six labels"
   ]
  },
  {
   "cell_type": "code",
   "execution_count": 132,
   "metadata": {
    "id": "Ri59MDQck6wS"
   },
   "outputs": [],
   "source": [
    "df_6 = df[(df['toxic']==1) & (df['severe_toxic']==1) & (df['obscene']==1) & (df['threat']==1)& (df['insult']==1)& (df['identity_hate']==1)]"
   ]
  },
  {
   "cell_type": "code",
   "execution_count": 133,
   "metadata": {
    "id": "1niPINFJk6wS"
   },
   "outputs": [],
   "source": [
    "df_6.set_index(['id'], inplace = True)\n",
    "df_6.reset_index(level =['id'], inplace = True) \n",
    "# df6 = df_6.drop('comment_text', axis=1)"
   ]
  },
  {
   "cell_type": "code",
   "execution_count": 135,
   "metadata": {
    "id": "Ab7ycDCN6-rN"
   },
   "outputs": [],
   "source": [
    "# df_6.head()"
   ]
  },
  {
   "cell_type": "code",
   "execution_count": 136,
   "metadata": {
    "id": "KWrAExI3k6v-"
   },
   "outputs": [],
   "source": [
    "### data cleaner function\n",
    "def clean(input_str):\n",
    "    input_str = input_str.lower()\n",
    "    input_str = re.sub(r'\\d+', '', input_str)\n",
    "    input_str = re.sub(r\"n't\", \" not \", input_str)\n",
    "    input_str = re.sub(r\"can't\", \"cannot \", input_str)\n",
    "    input_str = re.sub(r\"what's\", \"what is \", input_str)\n",
    "    input_str = re.sub(r\"\\'s\", \" \", input_str)\n",
    "    input_str = re.sub(r\"\\'ve\", \" have \", input_str)\n",
    "    input_str = re.sub(r\"\\'re\", \" are \", input_str)\n",
    "    input_str = re.sub(r\"\\'d\", \" would \", input_str)\n",
    "    input_str = re.sub(r\"\\'ll\", \" will \", input_str)\n",
    "    input_str = re.sub(r\"\\'scuse\", \" excuse \", input_str)\n",
    "    input_str = re.sub(r\"i'm\", \"i am\", input_str)\n",
    "    input_str = re.sub(r\" m \", \" am \", input_str)\n",
    "    input_str = re.sub('\\s+', ' ', input_str)\n",
    "    input_str = re.sub('\\W', ' ', input_str)\n",
    "    input_str = input_str.translate(str.maketrans('','', string.punctuation))\n",
    "    input_str = input_str.strip()\n",
    "    return input_str"
   ]
  },
  {
   "cell_type": "code",
   "execution_count": 137,
   "metadata": {
    "id": "8l4sD-muk6wG"
   },
   "outputs": [],
   "source": [
    "### Frequently used words in the obscene comments\n",
    "def make_dict(data):\n",
    "    all_word = []\n",
    "    counts = dict()\n",
    "    for i in range (0,len(data)):\n",
    "\n",
    "        ### Load input\n",
    "        input_str = data.comment_text[i]\n",
    "\n",
    "        ### Clean input data\n",
    "        processed_text = clean(input_str)\n",
    "\n",
    "        ### perform tokenization\n",
    "        tokened_text = word_tokenize(processed_text)\n",
    "\n",
    "        ### remove stop words\n",
    "        comment_word = []\n",
    "        for word in tokened_text:\n",
    "            if word not in stopwords.words('english'):\n",
    "                comment_word.append(word)\n",
    "        #print(len(comment_word))\n",
    "        all_word.extend(comment_word)\n",
    "      \n",
    "    for word in all_word:\n",
    "      if word in counts:\n",
    "          counts[word] += 1\n",
    "      else:\n",
    "          counts[word] = 1\n",
    "    \n",
    "    return all_word, counts"
   ]
  },
  {
   "cell_type": "code",
   "execution_count": 138,
   "metadata": {
    "id": "5sSvyJ2hk6wH"
   },
   "outputs": [],
   "source": [
    "all_words, word_count = make_dict(df_obscene)"
   ]
  },
  {
   "cell_type": "code",
   "execution_count": 139,
   "metadata": {
    "id": "w3hO_0ej2LpV"
   },
   "outputs": [],
   "source": [
    "# Arrange the words in descening order and pick the words with minimum count\r\n",
    "def descend_odr(data, min_count):\r\n",
    "  all_words, word_count = make_dict(data)\r\n",
    "  sorted_d = dict( sorted(word_count.items(), key=operator.itemgetter(1),reverse=True))\r\n",
    "  for m,n in sorted_d.items():\r\n",
    "    if n > min_count:\r\n",
    "      print (m,n)\r\n",
    "\r\n"
   ]
  },
  {
   "cell_type": "code",
   "execution_count": 140,
   "metadata": {},
   "outputs": [
    {
     "name": "stdout",
     "output_type": "stream",
     "text": [
      "fuck 13447\n",
      "suck 4806\n",
      "go 3814\n",
      "like 3698\n",
      "wikipedia 3680\n",
      "shit 3652\n",
      "nigger 3428\n",
      "u 3359\n",
      "hate 2763\n",
      "faggot 2695\n",
      "get 2654\n",
      "page 2588\n",
      "know 2326\n",
      "edit 2294\n",
      "bitch 2288\n",
      "gay 2272\n",
      "die 2174\n",
      "block 1977\n",
      "fat 1970\n",
      "moron 1961\n",
      "peopl 1934\n",
      "articl 1899\n",
      "cunt 1808\n",
      "hi 1691\n",
      "talk 1640\n",
      "one 1599\n",
      "make 1585\n",
      "user 1566\n",
      "jew 1564\n",
      "stupid 1514\n",
      "stop 1475\n",
      "want 1466\n",
      "wiki 1448\n",
      "vandal 1443\n",
      "dick 1440\n",
      "think 1398\n",
      "pig 1385\n",
      "would 1383\n",
      "delet 1309\n",
      "cock 1280\n",
      "time 1272\n",
      "peni 1239\n",
      "idiot 1222\n",
      "admin 1165\n",
      "say 1160\n",
      "bullshit 1147\n",
      "asshol 1142\n",
      "person 1119\n",
      "life 1092\n",
      "fag 1057\n",
      "wanker 1053\n",
      "right 1040\n",
      "ball 1037\n",
      "dont 1030\n",
      "use 1019\n",
      "even 1013\n",
      "ban 1006\n",
      "bark 1002\n"
     ]
    }
   ],
   "source": [
    "descend_odr(df_toxic, 1000)"
   ]
  },
  {
   "cell_type": "markdown",
   "metadata": {},
   "source": [
    "<br>These are the words most frequently used in toxic comments"
   ]
  },
  {
   "cell_type": "code",
   "execution_count": 141,
   "metadata": {},
   "outputs": [
    {
     "name": "stdout",
     "output_type": "stream",
     "text": [
      "fuck 8803\n",
      "suck 3522\n",
      "shit 1890\n",
      "u 1631\n",
      "faggot 1576\n",
      "bitch 1544\n",
      "go 1515\n",
      "die 1165\n",
      "cunt 1040\n",
      "nigger 1019\n",
      "cock 914\n",
      "cocksuck 782\n",
      "wikipedia 773\n",
      "dick 668\n",
      "fucksex 624\n",
      "yourselfgo 621\n",
      "fucker 595\n",
      "kill 586\n",
      "asshol 543\n",
      "eat 538\n",
      "piec 508\n"
     ]
    }
   ],
   "source": [
    "descend_odr(df_severe_toxic, 500)"
   ]
  },
  {
   "cell_type": "markdown",
   "metadata": {},
   "source": [
    "<br>These are the words most frequently used in severe toxic comments"
   ]
  },
  {
   "cell_type": "code",
   "execution_count": 142,
   "metadata": {
    "colab": {
     "base_uri": "https://localhost:8080/"
    },
    "id": "MhAqDiuA3Tdq",
    "outputId": "571ee676-a48a-41ea-9be5-95015da93467"
   },
   "outputs": [
    {
     "name": "stdout",
     "output_type": "stream",
     "text": [
      "fuck 13251\n",
      "suck 4196\n",
      "shit 3235\n",
      "nigger 2839\n",
      "go 2724\n",
      "u 2488\n",
      "bitch 2287\n",
      "wikipedia 1906\n",
      "faggot 1895\n",
      "cunt 1791\n",
      "like 1650\n",
      "get 1598\n",
      "dick 1467\n",
      "page 1292\n",
      "fat 1282\n",
      "edit 1260\n",
      "cock 1255\n",
      "know 1227\n",
      "die 1213\n",
      "asshol 1093\n",
      "bullshit 1090\n",
      "block 1078\n",
      "peni 1076\n"
     ]
    }
   ],
   "source": [
    "descend_odr(df_obscene, 1000)"
   ]
  },
  {
   "cell_type": "markdown",
   "metadata": {
    "id": "IHn2oJaok6wR"
   },
   "source": [
    "<br>These are the words most frequently used in obscene comments"
   ]
  },
  {
   "cell_type": "code",
   "execution_count": 144,
   "metadata": {},
   "outputs": [
    {
     "name": "stdout",
     "output_type": "stream",
     "text": [
      "die 1178\n",
      "kill 522\n",
      "go 376\n",
      "fuck 312\n",
      "wikipedia 200\n",
      "block 188\n",
      "must 167\n",
      "jim 158\n",
      "wale 158\n",
      "supertrl 152\n",
      "page 137\n",
      "ban 136\n",
      "talk 121\n",
      "live 109\n",
      "murder 109\n",
      "fuckin 101\n",
      "rvv 96\n",
      "blank 94\n",
      "di 93\n",
      "edi 90\n",
      "lifetim 87\n",
      "pathet 81\n",
      "forev 80\n",
      "wiki 80\n",
      "fool 79\n",
      "get 77\n",
      "respect 76\n",
      "hope 72\n",
      "bitch 71\n",
      "en 71\n",
      "org 71\n",
      "shit 70\n",
      "therealstephenhawkinghttp 69\n",
      "take 67\n",
      "u 61\n",
      "rape 60\n",
      "like 56\n",
      "know 54\n",
      "continu 54\n",
      "na 54\n",
      "dust 53\n",
      "filter 53\n",
      "steal 52\n",
      "password 51\n"
     ]
    }
   ],
   "source": [
    "descend_odr(df_threat, 50)"
   ]
  },
  {
   "cell_type": "markdown",
   "metadata": {},
   "source": [
    "<br>These are the words most frequently used in severe threat comments"
   ]
  },
  {
   "cell_type": "code",
   "execution_count": 145,
   "metadata": {},
   "outputs": [
    {
     "name": "stdout",
     "output_type": "stream",
     "text": [
      "fuck 10866\n",
      "suck 3839\n",
      "nigger 2892\n",
      "go 2564\n",
      "faggot 2534\n",
      "u 2374\n",
      "bitch 2212\n",
      "fat 1926\n",
      "shit 1710\n",
      "cunt 1696\n",
      "like 1659\n",
      "moron 1523\n",
      "get 1450\n",
      "jew 1448\n",
      "hate 1435\n",
      "wikipedia 1430\n",
      "hi 1400\n",
      "die 1255\n",
      "dick 1241\n",
      "know 1210\n",
      "page 1111\n",
      "stupid 1106\n",
      "edit 1095\n",
      "asshol 1033\n",
      "cock 1015\n"
     ]
    }
   ],
   "source": [
    "descend_odr(df_insult,1000)"
   ]
  },
  {
   "cell_type": "markdown",
   "metadata": {},
   "source": [
    "<br>These are the words most frequently used in comments labeled as an insult"
   ]
  },
  {
   "cell_type": "code",
   "execution_count": 146,
   "metadata": {},
   "outputs": [
    {
     "name": "stdout",
     "output_type": "stream",
     "text": [
      "nigger 3089\n",
      "jew 1499\n",
      "fuck 1437\n",
      "fat 1322\n",
      "gay 939\n",
      "die 885\n",
      "faggot 762\n",
      "suck 523\n",
      "nigga 512\n",
      "huge 430\n",
      "shit 414\n",
      "like 411\n",
      "cunt 403\n",
      "stupid 398\n",
      "mexican 371\n",
      "bitch 361\n",
      "go 358\n",
      "hate 317\n",
      "u 311\n",
      "bunkstev 278\n",
      "get 276\n",
      "jewish 248\n",
      "wikipedia 234\n",
      "tommi 230\n",
      "kill 216\n",
      "ancestryfuck 208\n",
      "peopl 184\n",
      "make 182\n",
      "fan 182\n",
      "spanish 182\n",
      "licker 181\n",
      "ca 180\n",
      "centraliststupid 179\n",
      "piec 178\n",
      "keep 173\n",
      "drink 157\n"
     ]
    }
   ],
   "source": [
    "descend_odr(df_identity_hate,150)"
   ]
  },
  {
   "cell_type": "markdown",
   "metadata": {},
   "source": [
    "<br>These are the most frequently used words in the comments labeled as identity_hate"
   ]
  },
  {
   "cell_type": "code",
   "execution_count": 147,
   "metadata": {},
   "outputs": [
    {
     "name": "stdout",
     "output_type": "stream",
     "text": [
      "die 727\n",
      "di 90\n",
      "edi 90\n",
      "wikipedia 72\n",
      "en 71\n",
      "org 71\n",
      "wiki 71\n",
      "therealstephenhawkinghttp 69\n",
      "fuck 54\n",
      "bitch 28\n",
      "rape 23\n",
      "go 21\n",
      "fat 15\n",
      "shit 13\n",
      "wheelchairi 12\n",
      "get 10\n",
      "fuckin 9\n",
      "kill 9\n",
      "jew 8\n",
      "block 7\n",
      "faggot 7\n",
      "piss 7\n",
      "like 6\n",
      "page 6\n",
      "mother 6\n",
      "fag 6\n"
     ]
    }
   ],
   "source": [
    "descend_odr(df_6,5)"
   ]
  },
  {
   "cell_type": "markdown",
   "metadata": {},
   "source": [
    "<br>These are the most frequently used words in the comments labeled as identity_hate"
   ]
  },
  {
   "cell_type": "code",
   "execution_count": null,
   "metadata": {},
   "outputs": [],
   "source": []
  }
 ],
 "metadata": {
  "accelerator": "TPU",
  "colab": {
   "collapsed_sections": [],
   "name": "etc.ipynb",
   "provenance": [],
   "toc_visible": true
  },
  "kernelspec": {
   "display_name": "Python 3",
   "language": "python",
   "name": "python3"
  },
  "language_info": {
   "codemirror_mode": {
    "name": "ipython",
    "version": 3
   },
   "file_extension": ".py",
   "mimetype": "text/x-python",
   "name": "python",
   "nbconvert_exporter": "python",
   "pygments_lexer": "ipython3",
   "version": "3.6.5"
  }
 },
 "nbformat": 4,
 "nbformat_minor": 2
}
