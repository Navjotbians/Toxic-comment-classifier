{
 "cells": [
  {
   "cell_type": "code",
   "execution_count": 203,
   "metadata": {
    "id": "x11nOpWkhHyt"
   },
   "outputs": [],
   "source": [
    "import numpy as np\n",
    "import pandas as pd\n",
    "import matplotlib.pyplot as plt\n",
    "import nltk\n",
    "from sklearn.multiclass import OneVsRestClassifier\n",
    "from nltk.tokenize import word_tokenize\n",
    "from nltk.corpus import stopwords\n",
    "import re\n",
    "import string\n",
    "import operator\n",
    "from sklearn.linear_model import LogisticRegression\n",
    "from sklearn import feature_extraction,model_selection,naive_bayes,pipeline,manifold,preprocessing\n",
    "from sklearn.metrics import accuracy_score"
   ]
  },
  {
   "cell_type": "code",
   "execution_count": 204,
   "metadata": {
    "colab": {
     "base_uri": "https://localhost:8080/"
    },
    "id": "8crPCeN5PchF",
    "outputId": "b0783981-2455-4a32-9278-afaf98b64bbc"
   },
   "outputs": [],
   "source": [
    "# import sys\n",
    "# print(sys.getrecursionlimit()))"
   ]
  },
  {
   "cell_type": "code",
   "execution_count": 205,
   "metadata": {
    "id": "A6lJo6fMPev_"
   },
   "outputs": [],
   "source": [
    "# sys.setrecursionlimit(5000)"
   ]
  },
  {
   "cell_type": "code",
   "execution_count": 207,
   "metadata": {
    "id": "vZnJ896ohoC-"
   },
   "outputs": [],
   "source": [
    "df = pd.read_csv('../data/raw/train.csv')"
   ]
  },
  {
   "cell_type": "code",
   "execution_count": 220,
   "metadata": {},
   "outputs": [],
   "source": [
    "### data cleaner function\n",
    "def clean(input_str):\n",
    "    input_str = input_str.lower()\n",
    "    input_str = re.sub(r'\\d+', '', input_str) # Delete digits\n",
    "    input_str = re.sub(r\"n't\", \" not \", input_str)  # Replace pattern n't -> not\n",
    "    input_str = re.sub(r\"can't\", \"cannot \", input_str) # Replace pattern can't -> cannot\n",
    "    input_str = re.sub(r\"what's\", \"what is \", input_str) # Replace pattern what's -> what is\n",
    "    input_str = re.sub(r\"\\'s\", \" \", input_str)  # Delete pattern 's\n",
    "    input_str = re.sub(r\"\\'ve\", \" have \", input_str) # Replace pattern 've -> have\n",
    "    input_str = re.sub(r\"\\'re\", \" are \", input_str)  # Replace pattern 're -> are\n",
    "    input_str = re.sub(r\"\\'d\", \" would \", input_str)  # Replace pattern 'd -> would\n",
    "    input_str = re.sub(r\"\\'ll\", \" will \", input_str)  # Replace pattern 'll -> will\n",
    "    input_str = re.sub(r\"\\'scuse\", \" excuse \", input_str) # Replace pattern 'scuse -> excuse\n",
    "    input_str = re.sub(r\"i'm\", \"i am\", input_str)  # Replace pattern i'm -> i am\n",
    "    input_str = re.sub(r\" m \", \" am \", input_str)  # Replace pattern m -> am\n",
    "    input_str = re.sub('\\s+', ' ', input_str)  # Eliminate duplicate whitespaces using wildcards \n",
    "    input_str = re.sub('\\W', ' ', input_str) # Delete non word characters\n",
    "    input_str = input_str.translate(str.maketrans('','', string.punctuation)) # Eliminate punchuation\n",
    "    input_str = input_str.strip()\n",
    "    return input_str"
   ]
  },
  {
   "cell_type": "code",
   "execution_count": 221,
   "metadata": {},
   "outputs": [],
   "source": [
    "### Frequently used words in the obscene comments\n",
    "def make_dict(d, stemm = False,lemm = True):\n",
    "    ### Clean input data\n",
    "    processed_text = clean(d)\n",
    "    ### Tokenization\n",
    "    processed_text = word_tokenize(processed_text)\n",
    "    ### remove stop words\n",
    "    processed_text = [word for word in processed_text if word not in stopwords.words('english')]\n",
    "        ### Stemming\n",
    "    if stemm == True:\n",
    "      ps = nltk.stem.porter.PorterStemmer()\n",
    "      processed_text = [ps.stem(word) for word in processed_text]\n",
    "        ### Lemmatization\n",
    "    if lemm == True:\n",
    "      lem = nltk.stem.wordnet.WordNetLemmatizer()\n",
    "      processed_text = [lem.lemmatize(word) for word in processed_text]\n",
    "        \n",
    "    text = \" \".join(processed_text)\n",
    "    \n",
    "    return text"
   ]
  },
  {
   "cell_type": "code",
   "execution_count": 223,
   "metadata": {},
   "outputs": [
    {
     "data": {
      "text/plain": [
       "'hey man realli tri edit war guy constantli remov relev inform talk edit instead talk page seem care format actual info'"
      ]
     },
     "execution_count": 223,
     "metadata": {},
     "output_type": "execute_result"
    }
   ],
   "source": [
    "input_str =  df.comment_text[2]\n",
    "\n",
    "make_dict(input_str, stemm= True)"
   ]
  },
  {
   "cell_type": "markdown",
   "metadata": {},
   "source": [
    "## Append the clean comments in the dataset"
   ]
  },
  {
   "cell_type": "code",
   "execution_count": 224,
   "metadata": {
    "id": "tc9PsGd9iCGw"
   },
   "outputs": [],
   "source": [
    "# df['clean_comment'] = df['comment_text'].apply(lambda x:make_dict(x, stemm= True))"
   ]
  },
  {
   "cell_type": "code",
   "execution_count": 225,
   "metadata": {
    "colab": {
     "base_uri": "https://localhost:8080/",
     "height": 924
    },
    "id": "UZNkUksQiCJJ",
    "outputId": "e8004035-4d87-4795-eaf9-97a46915a03a"
   },
   "outputs": [],
   "source": [
    "#df.head(20)"
   ]
  },
  {
   "cell_type": "markdown",
   "metadata": {
    "id": "TEaMUDIJPWip"
   },
   "source": [
    "#### Reading the processed data"
   ]
  },
  {
   "cell_type": "code",
   "execution_count": 226,
   "metadata": {
    "id": "Hax0tB4A8OmE"
   },
   "outputs": [],
   "source": [
    "df = pd.read_csv('../data/processed/processed_data.csv')"
   ]
  },
  {
   "cell_type": "code",
   "execution_count": 227,
   "metadata": {},
   "outputs": [],
   "source": [
    "### dropping the original unclean comment coloum from dataset\n",
    "df = df.drop('comment_text', axis = 1)"
   ]
  },
  {
   "cell_type": "code",
   "execution_count": 228,
   "metadata": {},
   "outputs": [],
   "source": [
    "### Renaming the clean comment colum to comment_text for ease\n",
    "df = df.rename({'clean_comment': 'comment_text'}, axis=1)"
   ]
  },
  {
   "cell_type": "code",
   "execution_count": 229,
   "metadata": {},
   "outputs": [
    {
     "data": {
      "text/html": [
       "<div>\n",
       "<style scoped>\n",
       "    .dataframe tbody tr th:only-of-type {\n",
       "        vertical-align: middle;\n",
       "    }\n",
       "\n",
       "    .dataframe tbody tr th {\n",
       "        vertical-align: top;\n",
       "    }\n",
       "\n",
       "    .dataframe thead th {\n",
       "        text-align: right;\n",
       "    }\n",
       "</style>\n",
       "<table border=\"1\" class=\"dataframe\">\n",
       "  <thead>\n",
       "    <tr style=\"text-align: right;\">\n",
       "      <th></th>\n",
       "      <th>Unnamed: 0</th>\n",
       "      <th>id</th>\n",
       "      <th>toxic</th>\n",
       "      <th>severe_toxic</th>\n",
       "      <th>obscene</th>\n",
       "      <th>threat</th>\n",
       "      <th>insult</th>\n",
       "      <th>identity_hate</th>\n",
       "      <th>comment_text</th>\n",
       "    </tr>\n",
       "  </thead>\n",
       "  <tbody>\n",
       "    <tr>\n",
       "      <th>0</th>\n",
       "      <td>0</td>\n",
       "      <td>0000997932d777bf</td>\n",
       "      <td>0</td>\n",
       "      <td>0</td>\n",
       "      <td>0</td>\n",
       "      <td>0</td>\n",
       "      <td>0</td>\n",
       "      <td>0</td>\n",
       "      <td>explanation edits made username hardcore metal...</td>\n",
       "    </tr>\n",
       "    <tr>\n",
       "      <th>1</th>\n",
       "      <td>1</td>\n",
       "      <td>000103f0d9cfb60f</td>\n",
       "      <td>0</td>\n",
       "      <td>0</td>\n",
       "      <td>0</td>\n",
       "      <td>0</td>\n",
       "      <td>0</td>\n",
       "      <td>0</td>\n",
       "      <td>aww match background colour seemingly stuck th...</td>\n",
       "    </tr>\n",
       "    <tr>\n",
       "      <th>2</th>\n",
       "      <td>2</td>\n",
       "      <td>000113f07ec002fd</td>\n",
       "      <td>0</td>\n",
       "      <td>0</td>\n",
       "      <td>0</td>\n",
       "      <td>0</td>\n",
       "      <td>0</td>\n",
       "      <td>0</td>\n",
       "      <td>hey man really trying edit war guy constantly ...</td>\n",
       "    </tr>\n",
       "    <tr>\n",
       "      <th>3</th>\n",
       "      <td>3</td>\n",
       "      <td>0001b41b1c6bb37e</td>\n",
       "      <td>0</td>\n",
       "      <td>0</td>\n",
       "      <td>0</td>\n",
       "      <td>0</td>\n",
       "      <td>0</td>\n",
       "      <td>0</td>\n",
       "      <td>ca make real suggestion improvement wondered s...</td>\n",
       "    </tr>\n",
       "    <tr>\n",
       "      <th>4</th>\n",
       "      <td>4</td>\n",
       "      <td>0001d958c54c6e35</td>\n",
       "      <td>0</td>\n",
       "      <td>0</td>\n",
       "      <td>0</td>\n",
       "      <td>0</td>\n",
       "      <td>0</td>\n",
       "      <td>0</td>\n",
       "      <td>sir hero chance remember page</td>\n",
       "    </tr>\n",
       "  </tbody>\n",
       "</table>\n",
       "</div>"
      ],
      "text/plain": [
       "   Unnamed: 0                id  toxic  severe_toxic  obscene  threat  insult  \\\n",
       "0           0  0000997932d777bf      0             0        0       0       0   \n",
       "1           1  000103f0d9cfb60f      0             0        0       0       0   \n",
       "2           2  000113f07ec002fd      0             0        0       0       0   \n",
       "3           3  0001b41b1c6bb37e      0             0        0       0       0   \n",
       "4           4  0001d958c54c6e35      0             0        0       0       0   \n",
       "\n",
       "   identity_hate                                       comment_text  \n",
       "0              0  explanation edits made username hardcore metal...  \n",
       "1              0  aww match background colour seemingly stuck th...  \n",
       "2              0  hey man really trying edit war guy constantly ...  \n",
       "3              0  ca make real suggestion improvement wondered s...  \n",
       "4              0                      sir hero chance remember page  "
      ]
     },
     "execution_count": 229,
     "metadata": {},
     "output_type": "execute_result"
    }
   ],
   "source": [
    "df.head()"
   ]
  },
  {
   "cell_type": "code",
   "execution_count": null,
   "metadata": {},
   "outputs": [],
   "source": []
  }
 ],
 "metadata": {
  "accelerator": "TPU",
  "colab": {
   "name": "Preprocessing.ipynb",
   "provenance": []
  },
  "kernelspec": {
   "display_name": "Python 3",
   "language": "python",
   "name": "python3"
  },
  "language_info": {
   "codemirror_mode": {
    "name": "ipython",
    "version": 3
   },
   "file_extension": ".py",
   "mimetype": "text/x-python",
   "name": "python",
   "nbconvert_exporter": "python",
   "pygments_lexer": "ipython3",
   "version": "3.6.5"
  }
 },
 "nbformat": 4,
 "nbformat_minor": 2
}
