{
 "cells": [
  {
   "cell_type": "code",
   "execution_count": 52,
   "metadata": {},
   "outputs": [],
   "source": [
    "import pandas as pd\n",
    "import numpy as np\n",
    "from sklearn.multiclass import OneVsRestClassifier\n",
    "from sklearn.linear_model import LogisticRegression\n",
    "from sklearn import feature_extraction,model_selection,preprocessing, naive_bayes,pipeline, manifold\n",
    "from sklearn.model_selection import cross_val_score\n",
    "from sklearn.metrics import accuracy_score, classification_report, f1_score\n",
    "from sklearn.externals import joblib\n",
    "import pickle\n",
    "import os\n",
    "import sys  \n",
    "sys.path.append('F:/AI/Toxic-comment-classifier/src')\n",
    "from word_embeddings import w_embeddings\n",
    "from clean_comments import clean\n",
    "from processing import process_txt"
   ]
  },
  {
   "cell_type": "code",
   "execution_count": 53,
   "metadata": {},
   "outputs": [],
   "source": [
    "### load model\n",
    "pkl_file = r'F:\\AI\\Toxic-comment-classifier\\model\\MultinomialNB'\n",
    "open_file = open(pkl_file, \"rb\")\n",
    "model = pickle.load(open_file)\n",
    "open_file.close()"
   ]
  },
  {
   "cell_type": "code",
   "execution_count": 54,
   "metadata": {},
   "outputs": [],
   "source": [
    "### load vectorizer\n",
    "pkl_file = r'F:\\AI\\Toxic-comment-classifier\\model\\bw_vectorizer1000.pkl'\n",
    "open_file = open(pkl_file, \"rb\")\n",
    "bw_vectorizer = pickle.load(open_file)\n",
    "open_file.close()"
   ]
  },
  {
   "cell_type": "code",
   "execution_count": 55,
   "metadata": {},
   "outputs": [],
   "source": [
    "input_str = [\"i'm going to kill you nigga, you are you sick or mad, i don't like you at all\"]\n",
    "i1 = [\"that is so good, i am so happy bitch\"]"
   ]
  },
  {
   "cell_type": "code",
   "execution_count": 56,
   "metadata": {},
   "outputs": [],
   "source": [
    "input_str = clean(i1[0])\n",
    "input_str = process_txt(input_str, stemm= True)\n",
    "input_str = bw_vectorizer.transform([input_str])"
   ]
  },
  {
   "cell_type": "code",
   "execution_count": 57,
   "metadata": {},
   "outputs": [
    {
     "data": {
      "text/plain": [
       "array([[1, 0, 1, 0, 1, 0]])"
      ]
     },
     "execution_count": 57,
     "metadata": {},
     "output_type": "execute_result"
    }
   ],
   "source": [
    "model.predict(input_str)"
   ]
  },
  {
   "cell_type": "code",
   "execution_count": null,
   "metadata": {},
   "outputs": [],
   "source": []
  }
 ],
 "metadata": {
  "kernelspec": {
   "display_name": "Python 3",
   "language": "python",
   "name": "python3"
  },
  "language_info": {
   "codemirror_mode": {
    "name": "ipython",
    "version": 3
   },
   "file_extension": ".py",
   "mimetype": "text/x-python",
   "name": "python",
   "nbconvert_exporter": "python",
   "pygments_lexer": "ipython3",
   "version": "3.6.5"
  }
 },
 "nbformat": 4,
 "nbformat_minor": 2
}
